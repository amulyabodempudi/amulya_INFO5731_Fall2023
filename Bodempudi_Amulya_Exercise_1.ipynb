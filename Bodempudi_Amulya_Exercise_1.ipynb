{
  "cells": [
    {
      "cell_type": "markdown",
      "metadata": {
        "id": "view-in-github",
        "colab_type": "text"
      },
      "source": [
        "<a href=\"https://colab.research.google.com/github/amulyabodempudi/amulya_INFO5731_Fall2023/blob/main/In_class_exercise1_08_30_2023.ipynb\" target=\"_parent\"><img src=\"https://colab.research.google.com/assets/colab-badge.svg\" alt=\"Open In Colab\"/></a>"
      ]
    },
    {
      "cell_type": "markdown",
      "metadata": {
        "id": "DymRJbxDBCnf"
      },
      "source": [
        "# **The first In-class-exercise (08/30/2023, 40 points in total)**\n",
        "This exercise is due tomorrow 08/31/203 11:59 PM.\n"
      ]
    },
    {
      "cell_type": "markdown",
      "source": [
        "## 5731- Computational Methods##\n",
        "\n",
        "## Amulya Bodempudi- 11645805##"
      ],
      "metadata": {
        "id": "SGGgS0Fm3AnN"
      }
    },
    {
      "cell_type": "markdown",
      "source": [
        "(1) Write a Python program to calculate the area of a rectangle using user-input length and width."
      ],
      "metadata": {
        "id": "FBKvD6O_TY6e"
      }
    },
    {
      "cell_type": "code",
      "source": [
        "# write your answer here\n",
        "l= int(input(\"enter the length \"))\n",
        "w=int(input(\"enter the width \"))\n",
        "A=l*w #formula for area of rectangle\n",
        "print(\"Area of rectangle is \",A)"
      ],
      "metadata": {
        "id": "cikVKDXdTbzE",
        "colab": {
          "base_uri": "https://localhost:8080/"
        },
        "outputId": "06fd2432-fabb-4775-b26a-ee6d5677c54d"
      },
      "execution_count": 41,
      "outputs": [
        {
          "output_type": "stream",
          "name": "stdout",
          "text": [
            "enter the length 8\n",
            "enter the width 5\n",
            "Area of rectangle is  40\n"
          ]
        }
      ]
    },
    {
      "cell_type": "markdown",
      "source": [
        "(2) Create a program that takes two numbers from the user and swaps their values without using a temporary variable."
      ],
      "metadata": {
        "id": "E9RqrlwdTfvl"
      }
    },
    {
      "cell_type": "code",
      "source": [
        "# write your answer here\n",
        "a= int(input(\"enter the 1st number \"))\n",
        "b=int(input(\"enter the 2nd number \"))\n",
        "#swapping the numbers without third variable\n",
        "a=a+b\n",
        "b=a-b\n",
        "a=a-b\n",
        "print(\"After swapping the numbers \")\n",
        "print(\"Value of a is \",a,\"and value of b is \",b)"
      ],
      "metadata": {
        "id": "4XvRknixTh1g",
        "colab": {
          "base_uri": "https://localhost:8080/"
        },
        "outputId": "c9ad1d0a-d39a-4222-aee3-b642d1c5427c"
      },
      "execution_count": 42,
      "outputs": [
        {
          "output_type": "stream",
          "name": "stdout",
          "text": [
            "enter the 1st number 10\n",
            "enter the 2nd number 5\n",
            "After swapping the numbers \n",
            "Value of a is  5 and value of b is  10\n"
          ]
        }
      ]
    },
    {
      "cell_type": "markdown",
      "metadata": {
        "id": "03jb4GZsBkBS"
      },
      "source": [
        "(3) Write a Python program to calculate the length of a string."
      ]
    },
    {
      "cell_type": "code",
      "execution_count": 43,
      "metadata": {
        "id": "YaGLbSHHB8Ej",
        "colab": {
          "base_uri": "https://localhost:8080/"
        },
        "outputId": "dd1ce00a-f78a-453f-c69a-066631b8c7b8"
      },
      "outputs": [
        {
          "output_type": "stream",
          "name": "stdout",
          "text": [
            "Enter the string value amulya\n",
            "The length of string is  6\n"
          ]
        }
      ],
      "source": [
        "# write your answer here\n",
        "x=input(\"Enter the string value \")\n",
        "y=len(x) #to find the length of string\n",
        "print(\"The length of string is \",y)"
      ]
    },
    {
      "cell_type": "markdown",
      "metadata": {
        "id": "jJDe71iLB616"
      },
      "source": [
        "(4) Write a Python program to count the number of characters in a string.\n",
        "\n",
        "Sample String : 'google.com‘,\n",
        "\n",
        "Expected Result : {'o': 3, 'g': 2, '.': 1, 'e': 1, 'l': 1, 'm': 1, 'c': 1}"
      ]
    },
    {
      "cell_type": "code",
      "source": [
        "def count_characters(input_string):\n",
        "    char_count = {}\n",
        "\n",
        "    for char in input_string:\n",
        "        if char in char_count:\n",
        "            char_count[char] += 1\n",
        "        else:\n",
        "            char_count[char] = 1\n",
        "\n",
        "    return char_count\n",
        "\n",
        "sample_string = input(\"Enter the string: \")\n",
        "result = count_characters(sample_string)\n",
        "print(result)"
      ],
      "metadata": {
        "colab": {
          "base_uri": "https://localhost:8080/"
        },
        "id": "aMNJFY5Oz2Jv",
        "outputId": "bc9a6587-d872-499e-dd2c-04cb936c03cb"
      },
      "execution_count": 50,
      "outputs": [
        {
          "output_type": "stream",
          "name": "stdout",
          "text": [
            "Enter the string: amulyabodempudi\n",
            "{'a': 2, 'm': 2, 'u': 2, 'l': 1, 'y': 1, 'b': 1, 'o': 1, 'd': 2, 'e': 1, 'p': 1, 'i': 1}\n"
          ]
        }
      ]
    },
    {
      "cell_type": "markdown",
      "metadata": {
        "id": "55W9AMdXCSpV"
      },
      "source": [
        "(5) Write a Python program to sum all the items in a list."
      ]
    },
    {
      "cell_type": "code",
      "execution_count": 51,
      "metadata": {
        "id": "I57NXsauCec2",
        "colab": {
          "base_uri": "https://localhost:8080/"
        },
        "outputId": "e0f21d0d-f10c-42d5-dc05-d839cf399892"
      },
      "outputs": [
        {
          "output_type": "stream",
          "name": "stdout",
          "text": [
            "Enter number of elements : 5\n",
            "10\n",
            "20\n",
            "30\n",
            "40\n",
            "50\n",
            "[10, 20, 30, 40, 50]\n",
            "Sum of all elements in given list:  150\n"
          ]
        }
      ],
      "source": [
        "# write your answer here\n",
        "total = 0\n",
        "list1 = [] # creating a list\n",
        "n = int(input(\"Enter number of elements : \"))\n",
        "for i in range(0, n):  # iterating till the range\n",
        "    ele = int(input())\n",
        "    list1.append(ele) # adding the element\n",
        "print(list1)\n",
        "for ele in range(0, n): # Iterate each element in list and add them in variable total\n",
        "    total = total + list1[ele]\n",
        "# printing total value\n",
        "print(\"Sum of all elements in given list: \", total)"
      ]
    },
    {
      "cell_type": "markdown",
      "metadata": {
        "id": "4ulBZ6yhCi9F"
      },
      "source": [
        "(6) Write a Python program to get a string from a given string where all occurrences of its first char have been changed to '\\$', except the first char itself.\n",
        "\n",
        "Sample String : 'restart‘,\n",
        "\n",
        "Expected Result : 'resta\\$t'"
      ]
    },
    {
      "cell_type": "code",
      "execution_count": 52,
      "metadata": {
        "id": "Fj0XhwbBCw2o",
        "colab": {
          "base_uri": "https://localhost:8080/"
        },
        "outputId": "9fa5280c-29a5-4325-bf8a-344656636492"
      },
      "outputs": [
        {
          "output_type": "stream",
          "name": "stdout",
          "text": [
            "Enter string: amulya\n",
            "Expected Result : amuly$\n"
          ]
        }
      ],
      "source": [
        "# write your answer here\n",
        "str=input(\"Enter string: \")\n",
        "ch = str[0]\n",
        "str = str.replace(ch, '$')\n",
        "str = ch + str[1:]\n",
        "print(\"Expected Result :\",str)"
      ]
    },
    {
      "cell_type": "markdown",
      "source": [
        "(7) Create a program that calculates the factorial of a number using a while loop."
      ],
      "metadata": {
        "id": "qVXA3q7ET5JI"
      }
    },
    {
      "cell_type": "code",
      "source": [
        "# write your answer here\n",
        "n=int(input(\"Enter a number: \")) #taking number from the user\n",
        "def factorial(n):\n",
        "    num = 1\n",
        "    while n >= 1:\n",
        "        num = num * n\n",
        "        n = n - 1\n",
        "    return num\n",
        "f = factorial(n)\n",
        "print(\"Factorial of the number is: \",f)"
      ],
      "metadata": {
        "id": "Lbt7R6UkT7BA",
        "colab": {
          "base_uri": "https://localhost:8080/"
        },
        "outputId": "642f954e-be6d-4d1e-cf83-11e176265314"
      },
      "execution_count": 53,
      "outputs": [
        {
          "output_type": "stream",
          "name": "stdout",
          "text": [
            "Enter a number: 5\n",
            "Factorial of the number is:  120\n"
          ]
        }
      ]
    },
    {
      "cell_type": "markdown",
      "source": [
        "(8) Create a program that takes a list of numbers as input and outputs a new list with only the even numbers."
      ],
      "metadata": {
        "id": "6YfbzXMNT--R"
      }
    },
    {
      "cell_type": "code",
      "source": [
        "# write your answer here\n",
        "#defining the function\n",
        "def even(list):\n",
        "    new_list=[]\n",
        "    for i in list:\n",
        "        if i%2==0:\n",
        "            new_list.append(i)\n",
        "    return new_list\n",
        "# taking input from user\n",
        "lis=[]\n",
        "n = int(input(\"Enter number of elements : \"))\n",
        "for i in range(0, n):  # iterating till the range\n",
        "    ele = int(input())\n",
        "    lis.append(ele) # adding the element\n",
        "print(lis)\n",
        "print(\"Even numbers in the list are: \", even(lis))"
      ],
      "metadata": {
        "id": "54q7wMQPUAKu",
        "colab": {
          "base_uri": "https://localhost:8080/"
        },
        "outputId": "e51c736d-c988-4dd7-b80d-4d4fc453951d"
      },
      "execution_count": 54,
      "outputs": [
        {
          "output_type": "stream",
          "name": "stdout",
          "text": [
            "Enter number of elements : 7\n",
            "11\n",
            "12\n",
            "13\n",
            "5\n",
            "7\n",
            "9\n",
            "4\n",
            "[11, 12, 13, 5, 7, 9, 4]\n",
            "Even numbers in the list are:  [12, 4]\n"
          ]
        }
      ]
    },
    {
      "cell_type": "markdown",
      "metadata": {
        "id": "_bIP7s1MCzue"
      },
      "source": [
        "(9) Write a program with python which could accept two parameter a and b to calculate and output the result of S, where\n",
        "\n",
        "$\\ S=3.14*(1+a/b)^3$\n",
        "\n"
      ]
    },
    {
      "cell_type": "code",
      "execution_count": 55,
      "metadata": {
        "id": "w79QilHXD3Mg",
        "colab": {
          "base_uri": "https://localhost:8080/"
        },
        "outputId": "f0280405-c8dc-4a3d-9324-a0628468122e"
      },
      "outputs": [
        {
          "output_type": "stream",
          "name": "stdout",
          "text": [
            "Enter the number: 4\n",
            "Enter the number: 2\n",
            "84.78\n"
          ]
        }
      ],
      "source": [
        "# write your answer here\n",
        "a=int(input(\"Enter the number: \"))\n",
        "b=int(input(\"Enter the number: \"))\n",
        "S=3.14*(1+a/b)**3 #formula from the question\n",
        "print(S)"
      ]
    },
    {
      "cell_type": "markdown",
      "metadata": {
        "id": "xCa2bK9aD4Q3"
      },
      "source": [
        "(10) Write a Python program to concatenate following dictionaries to create a new one.\n",
        "\n",
        "Sample Dictionary : dic1={1:10, 2:20}, dic2={3:30, 4:40}, dic3={5:50,6:60},\n",
        "\n",
        "Expected Result : {1: 10, 2: 20, 3: 30, 4: 40, 5: 50, 6: 60}\n"
      ]
    },
    {
      "cell_type": "code",
      "source": [
        "# write your answer here\n",
        "dic1={1:10, 2:20}\n",
        "dic2={3:30, 4:40}\n",
        "dic3={5:50,6:60}\n",
        "dic4 = {}\n",
        "for d in (dic1, dic2, dic3): dic4.update(d)\n",
        "print(\"Concatenated dictionary: \",dic4)"
      ],
      "metadata": {
        "id": "3FdLRBKOUQEd",
        "colab": {
          "base_uri": "https://localhost:8080/"
        },
        "outputId": "6e882e07-73c1-42d2-dd14-78c345ac08ed"
      },
      "execution_count": 56,
      "outputs": [
        {
          "output_type": "stream",
          "name": "stdout",
          "text": [
            "Concatenated dictionary:  {1: 10, 2: 20, 3: 30, 4: 40, 5: 50, 6: 60}\n"
          ]
        }
      ]
    },
    {
      "cell_type": "markdown",
      "source": [
        "(11) Write a Python function that accepts a tuple of integers and returns the largest and smallest elements."
      ],
      "metadata": {
        "id": "bkyZ2xSZUOst"
      }
    },
    {
      "cell_type": "code",
      "source": [
        "def find_largest_smallest(numbers):\n",
        "    if not numbers:\n",
        "        return None, None  # Return None for both max and min if the tuple is empty\n",
        "\n",
        "    largest = max(numbers)\n",
        "    smallest = min(numbers)\n",
        "    return largest, smallest\n",
        "\n",
        "# Get user input for the tuple of integers\n",
        "input_str = input(\"Enter a tuple of integers separated by spaces: \")\n",
        "input_list = tuple(map(int, input_str.split()))\n",
        "\n",
        "largest, smallest = find_largest_smallest(input_list)\n",
        "\n",
        "if largest is None and smallest is None:\n",
        "    print(\"The tuple is empty.\")\n",
        "else:\n",
        "    print(\"Largest element:\", largest)\n",
        "    print(\"Smallest element:\", smallest)\n"
      ],
      "metadata": {
        "colab": {
          "base_uri": "https://localhost:8080/"
        },
        "id": "2rD0rpAwwCxU",
        "outputId": "2d26a454-8187-4954-bab0-8217f430290d"
      },
      "execution_count": 57,
      "outputs": [
        {
          "output_type": "stream",
          "name": "stdout",
          "text": [
            "Enter a tuple of integers separated by spaces: 10 20 30 40 50\n",
            "Largest element: 50\n",
            "Smallest element: 10\n"
          ]
        }
      ]
    },
    {
      "cell_type": "markdown",
      "source": [
        "(12) Write a Python program that counts the frequency of each character in a given string and stores it in a dictionary."
      ],
      "metadata": {
        "id": "O0TVi3gKUTpp"
      }
    },
    {
      "cell_type": "code",
      "source": [
        "# write your answer here\n",
        "# taking string from the user\n",
        "def count_character_frequency(input_string):\n",
        "    char_frequency = {}\n",
        "\n",
        "    for char in input_string:\n",
        "        if char in char_frequency:\n",
        "            char_frequency[char] += 1\n",
        "        else:\n",
        "            char_frequency[char] = 1\n",
        "\n",
        "    return char_frequency\n",
        "\n",
        "sample_string = input(\"Enter the string: \")\n",
        "result = count_character_frequency(sample_string)\n",
        "print(result)"
      ],
      "metadata": {
        "id": "lAtfSfZXUU-h",
        "colab": {
          "base_uri": "https://localhost:8080/"
        },
        "outputId": "1ac9bc76-2793-4f67-8bb2-f804c632cca8"
      },
      "execution_count": 61,
      "outputs": [
        {
          "output_type": "stream",
          "name": "stdout",
          "text": [
            "Enter the string: anitha\n",
            "{'a': 2, 'n': 1, 'i': 1, 't': 1, 'h': 1}\n"
          ]
        }
      ]
    },
    {
      "cell_type": "markdown",
      "metadata": {
        "id": "0v48Vqa7FrQh"
      },
      "source": [
        "(13) Write a Python program to check whether an element exists within a tuple."
      ]
    },
    {
      "cell_type": "code",
      "execution_count": 62,
      "metadata": {
        "id": "7WEmgq-DF2P1",
        "colab": {
          "base_uri": "https://localhost:8080/"
        },
        "outputId": "2efaae9d-7f53-40bb-8e44-3264128b1646"
      },
      "outputs": [
        {
          "output_type": "stream",
          "name": "stdout",
          "text": [
            "False\n",
            "True\n",
            "False\n"
          ]
        }
      ],
      "source": [
        "# write your answer here\n",
        "tuple1=(\"a\",\"n\",\"i\",\"t\",\"h\",\"a\")\n",
        "print(\"s\" in tuple1)\n",
        "print(\"n\" in tuple1)\n",
        "print(\"5\" in tuple1)"
      ]
    },
    {
      "cell_type": "markdown",
      "metadata": {
        "id": "vD5PYLMuGga_"
      },
      "source": [
        "(14) Write a Python program to find maximum and the minimum value in a set."
      ]
    },
    {
      "cell_type": "code",
      "execution_count": 63,
      "metadata": {
        "id": "t0D5kdJUGjjw",
        "colab": {
          "base_uri": "https://localhost:8080/"
        },
        "outputId": "ed233d6e-129c-4418-dae6-4c112d15082f"
      },
      "outputs": [
        {
          "output_type": "stream",
          "name": "stdout",
          "text": [
            "Original set elements:  {16, 2, 3, 19, 9, 10, 25}\n",
            "Maximum value of the set:  25\n",
            "Minimum value of the said set: 2\n"
          ]
        }
      ],
      "source": [
        "# write your answer here\n",
        "#Create a set\n",
        "set1 = {2,10,16,19,9,3,25}\n",
        "print(\"Original set elements: \",set1)\n",
        "print(\"Maximum value of the set: \",max(set1))\n",
        "print(\"Minimum value of the said set:\",min(set1))"
      ]
    },
    {
      "cell_type": "markdown",
      "metadata": {
        "id": "uHkd-y5VhVWC"
      },
      "source": [
        "(15) Write a Python program to randomly divide the students in this class into six groups for term projects, each group should have at least 4 students but no more than 6 students (including 6). Here is the students list:\n",
        "student_list_fall_2023=['sb1826' ,\n",
        " 'lb0582' ,\n",
        " 'ab1820' ,\n",
        " 'sb1883' ,\n",
        " 'mb1296' ,\n",
        " 'sc1622' ,\n",
        " 'tc0469' ,\n",
        " 'ac1770' ,\n",
        " 'mc1453' ,\n",
        " 'ad1187' ,\n",
        " 'sd0926' ,\n",
        " 'sd1268' ,\n",
        " 'ag1609' ,\n",
        " 'sg1638' ,\n",
        " 'mg1299' ,\n",
        " 'vkk0022' ,\n",
        " 'bk0413' ,\n",
        " 'gk0257' ,\n",
        " 'am2807' ,\n",
        " 'gm0558' ,\n",
        " 'pm0658' ,\n",
        " 'am2346' ,\n",
        " 'rm1090' ,\n",
        " 'sm2364' ,\n",
        " 'sm2747' ,\n",
        " 'sm2343' ,\n",
        " 'vm0597' ,\n",
        " 'htn0086' ,\n",
        " 'sp2075' ,\n",
        " 'gp0306' ,\n",
        " 'lp0502' ,\n",
        " 'sr1508' ,\n",
        " 'vr0331' ,\n",
        " 'yr0180' ,\n",
        " 'as2819' ,\n",
        " 'ss2981' ,\n",
        " 'ns0756' ,\n",
        " 'mt0825' ,\n",
        " 'dt0463' ,\n",
        " 'su0137' ,\n",
        " 'dv0310'\n",
        "]"
      ]
    },
    {
      "cell_type": "code",
      "execution_count": 64,
      "metadata": {
        "id": "3iGbmcOBhTwy",
        "colab": {
          "base_uri": "https://localhost:8080/"
        },
        "outputId": "5157466a-1265-40b9-fce8-2b4bb7724793"
      },
      "outputs": [
        {
          "output_type": "stream",
          "name": "stdout",
          "text": [
            "Group 1: ['as2819', 'am2346', 'pm0658', 'ad1187', 'ac1770', 'mt0825']\n",
            "Group 2: ['mg1299', 'mc1453', 'ns0756', 'vr0331', 'sb1826', 'ag1609']\n",
            "Group 3: ['gk0257', 'htn0086', 'mb1296', 'sc1622', 'am2807', 'gp0306']\n",
            "Group 4: ['dt0463', 'sr1508', 'su0137', 'sd0926', 'sm2747', 'lp0502']\n",
            "Group 5: ['yr0180', 'bk0413', 'tc0469', 'ss2981', 'sm2343', 'sd1268']\n",
            "Group 6: ['gm0558', 'rm1090', 'lb0582', 'sp2075', 'vkk0022', 'sg1638']\n",
            "Group 7: ['vm0597', 'sb1883', 'sm2364', 'dv0310', 'ab1820']\n"
          ]
        }
      ],
      "source": [
        "# write your answer here\n",
        "import random\n",
        "\n",
        "def divide_students_into_groups(student_list):\n",
        "    # Shuffle the student list to ensure randomness\n",
        "    random.shuffle(student_list)\n",
        "\n",
        "    group_size_range = range(4, 7)  # Group size between 4 and 6\n",
        "\n",
        "    groups = [[] for _ in range(7)]  # Create 7 empty groups\n",
        "\n",
        "    for student in student_list:\n",
        "        # Find a group with available space\n",
        "        for group in groups:\n",
        "            if len(group) < max(group_size_range):\n",
        "                group.append(student)\n",
        "                break\n",
        "\n",
        "    return groups\n",
        "\n",
        "student_list_fall_2023 = ['sb1826', 'lb0582', 'ab1820', 'sb1883', 'mb1296', 'sc1622', 'tc0469', 'ac1770', 'mc1453', 'ad1187', 'sd0926', 'sd1268', 'ag1609', 'sg1638', 'mg1299', 'vkk0022', 'bk0413', 'gk0257', 'am2807', 'gm0558', 'pm0658', 'am2346', 'rm1090', 'sm2364', 'sm2747', 'sm2343', 'vm0597', 'htn0086', 'sp2075', 'gp0306', 'lp0502', 'sr1508', 'vr0331', 'yr0180', 'as2819', 'ss2981', 'ns0756', 'mt0825', 'dt0463', 'su0137', 'dv0310']\n",
        "\n",
        "groups = divide_students_into_groups(student_list_fall_2023)\n",
        "\n",
        "# Print the groups\n",
        "for i, group in enumerate(groups, start=1):\n",
        "    print(f\"Group {i}:\", group)"
      ]
    },
    {
      "cell_type": "markdown",
      "metadata": {
        "id": "fmZ9vX20Qs3d"
      },
      "source": [
        "(16) Write a Python program to find the duplicate elements in a given array of integers. Return -1 If there are no such elements."
      ]
    },
    {
      "cell_type": "code",
      "execution_count": 66,
      "metadata": {
        "id": "ZnoxhSglQs3d",
        "colab": {
          "base_uri": "https://localhost:8080/"
        },
        "outputId": "1a6014a9-9a8f-47cd-e314-2a733cb97c50"
      },
      "outputs": [
        {
          "output_type": "stream",
          "name": "stdout",
          "text": [
            "Enter the array of integers separated by spaces: 10 20 12 13 5 17 11 3 5\n",
            "Duplicate elements: [5]\n"
          ]
        }
      ],
      "source": [
        "# write your answer here\n",
        "def find_duplicate_elements(arr):\n",
        "    seen = set()\n",
        "    duplicates = set()\n",
        "\n",
        "    for num in arr:\n",
        "        if num in seen:\n",
        "            duplicates.add(num)\n",
        "        else:\n",
        "            seen.add(num)\n",
        "\n",
        "    if not duplicates:\n",
        "        return -1\n",
        "    else:\n",
        "        return list(duplicates)\n",
        "\n",
        "# Get user input for the array of integers\n",
        "input_str = input(\"Enter the array of integers separated by spaces: \")\n",
        "input_list = list(map(int, input_str.split()))\n",
        "\n",
        "# Find duplicate elements\n",
        "duplicate_elements = find_duplicate_elements(input_list)\n",
        "\n",
        "if duplicate_elements == -1:\n",
        "    print(\"-1\")\n",
        "else:\n",
        "    print(\"Duplicate elements:\", duplicate_elements)"
      ]
    },
    {
      "cell_type": "markdown",
      "metadata": {
        "id": "hvq4APMhQs3d"
      },
      "source": [
        "(17) Write a Python program to select all the Sundays of a specified year."
      ]
    },
    {
      "cell_type": "code",
      "source": [
        "# write your answer here\n",
        "import calendar\n",
        "def find_sundays(year):\n",
        "    sundays = []\n",
        "    for month in range(1, 13):\n",
        "        for day in range(1, calendar.monthrange(year, month)[1] + 1):\n",
        "            if calendar.weekday(year, month, day) == calendar.SUNDAY:\n",
        "                sundays.append((year, month, day))\n",
        "    return sundays\n",
        "year = int(input(\"Enter the year: \")) # Get user input for the year\n",
        "sundays = find_sundays(year)\n",
        "if not sundays:\n",
        "    print(\"There are no Sundays in the specified year.\")\n",
        "else:\n",
        "    print(\"Sundays in the specified year:\")\n",
        "    for sunday in sundays:\n",
        "        print(sunday)"
      ],
      "metadata": {
        "id": "hwtr1wZmVX5A",
        "colab": {
          "base_uri": "https://localhost:8080/"
        },
        "outputId": "8be97ec7-b73e-4461-84bf-9bb3f63333a3"
      },
      "execution_count": 67,
      "outputs": [
        {
          "output_type": "stream",
          "name": "stdout",
          "text": [
            "Enter the year: 2024\n",
            "Sundays in the specified year:\n",
            "(2024, 1, 7)\n",
            "(2024, 1, 14)\n",
            "(2024, 1, 21)\n",
            "(2024, 1, 28)\n",
            "(2024, 2, 4)\n",
            "(2024, 2, 11)\n",
            "(2024, 2, 18)\n",
            "(2024, 2, 25)\n",
            "(2024, 3, 3)\n",
            "(2024, 3, 10)\n",
            "(2024, 3, 17)\n",
            "(2024, 3, 24)\n",
            "(2024, 3, 31)\n",
            "(2024, 4, 7)\n",
            "(2024, 4, 14)\n",
            "(2024, 4, 21)\n",
            "(2024, 4, 28)\n",
            "(2024, 5, 5)\n",
            "(2024, 5, 12)\n",
            "(2024, 5, 19)\n",
            "(2024, 5, 26)\n",
            "(2024, 6, 2)\n",
            "(2024, 6, 9)\n",
            "(2024, 6, 16)\n",
            "(2024, 6, 23)\n",
            "(2024, 6, 30)\n",
            "(2024, 7, 7)\n",
            "(2024, 7, 14)\n",
            "(2024, 7, 21)\n",
            "(2024, 7, 28)\n",
            "(2024, 8, 4)\n",
            "(2024, 8, 11)\n",
            "(2024, 8, 18)\n",
            "(2024, 8, 25)\n",
            "(2024, 9, 1)\n",
            "(2024, 9, 8)\n",
            "(2024, 9, 15)\n",
            "(2024, 9, 22)\n",
            "(2024, 9, 29)\n",
            "(2024, 10, 6)\n",
            "(2024, 10, 13)\n",
            "(2024, 10, 20)\n",
            "(2024, 10, 27)\n",
            "(2024, 11, 3)\n",
            "(2024, 11, 10)\n",
            "(2024, 11, 17)\n",
            "(2024, 11, 24)\n",
            "(2024, 12, 1)\n",
            "(2024, 12, 8)\n",
            "(2024, 12, 15)\n",
            "(2024, 12, 22)\n",
            "(2024, 12, 29)\n"
          ]
        }
      ]
    },
    {
      "cell_type": "markdown",
      "source": [
        "(18) Build a program that calculates the factorial of a given positive integer. The factorial of a non-negative integer n is the product of all positive integers less than or equal to n."
      ],
      "metadata": {
        "id": "55FWoSJPVVM6"
      }
    },
    {
      "cell_type": "code",
      "source": [
        "def factorial(n):\n",
        "    if n == 0 or n == 1:\n",
        "        return 1\n",
        "    else:\n",
        "        result = 1\n",
        "        for i in range(2, abs(n) + 1):\n",
        "            result *= i\n",
        "        return result\n",
        "\n",
        "# Get user input for the positive integer\n",
        "n = int(input(\"Enter a integer: \"))\n",
        "\n",
        "fact = factorial(n)\n",
        "print(f\"The factorial of {n} is:\", fact)"
      ],
      "metadata": {
        "colab": {
          "base_uri": "https://localhost:8080/"
        },
        "id": "MmbNbKUTnYp8",
        "outputId": "509223af-64f2-4fff-a1c4-6cf91491bbbb"
      },
      "execution_count": 68,
      "outputs": [
        {
          "output_type": "stream",
          "name": "stdout",
          "text": [
            "Enter a integer: 5\n",
            "The factorial of 5 is: 120\n"
          ]
        }
      ]
    },
    {
      "cell_type": "markdown",
      "source": [
        "(19) Write a program that takes a positive integer n as input and prints the count of even numbers from 1 to n. Use a loop to iterate through the numbers and utilize the break statement to optimize the loop."
      ],
      "metadata": {
        "id": "Q9ecagcaVazW"
      }
    },
    {
      "cell_type": "code",
      "source": [
        "# write your answer here\n",
        "def count_even_numbers(n):\n",
        "    count = 0\n",
        "    for i in range(1, n + 1):\n",
        "        if i % 2 == 0:\n",
        "            count += 1\n",
        "        elif i > n:  # If we encounter an odd number greater than n, we can stop the loop\n",
        "            break\n",
        "    return count\n",
        "\n",
        "# Get user input for the positive integer\n",
        "n = int(input(\"Enter a positive integer: \"))\n",
        "\n",
        "if n <= 0:\n",
        "    print(\"Please enter a positive integer.\")\n",
        "else:\n",
        "    even_count = count_even_numbers(n)\n",
        "    print(f\"The count of even numbers from 1 to {n} is:\", even_count)"
      ],
      "metadata": {
        "id": "gycgckoAVZjR",
        "colab": {
          "base_uri": "https://localhost:8080/"
        },
        "outputId": "c6d444ab-6445-47b2-fe2f-3b67d7b828bb"
      },
      "execution_count": 69,
      "outputs": [
        {
          "output_type": "stream",
          "name": "stdout",
          "text": [
            "Enter a positive integer: 55\n",
            "The count of even numbers from 1 to 55 is: 27\n"
          ]
        }
      ]
    },
    {
      "cell_type": "markdown",
      "source": [
        "(20) Write a Python function called count_vowels that takes a string as input and returns the count of vowels (both lowercase and uppercase) present in the string. Consider the vowels to be 'a', 'e', 'i', 'o', and 'u'. Ignore spaces and other non-alphabetic characters."
      ],
      "metadata": {
        "id": "cboAr5pEWUf5"
      }
    },
    {
      "cell_type": "code",
      "source": [
        "# write your answer here\n",
        "def count_vowels(input_string):\n",
        "    vowels = 'aeiouAEIOU'\n",
        "    vowel_count = 0\n",
        "\n",
        "    for char in input_string:\n",
        "        if char in vowels:\n",
        "            vowel_count += 1\n",
        "\n",
        "    return vowel_count\n",
        "\n",
        "# Get user input for the string\n",
        "input_str = input(\"Enter a string: \")\n",
        "\n",
        "vowel_count = count_vowels(input_str)\n",
        "\n",
        "print(\"Count of vowels:\", vowel_count)"
      ],
      "metadata": {
        "id": "phs9gciMWWAW",
        "colab": {
          "base_uri": "https://localhost:8080/"
        },
        "outputId": "5859dcd3-d438-4a78-a9d2-c2219ec3e2bf"
      },
      "execution_count": 70,
      "outputs": [
        {
          "output_type": "stream",
          "name": "stdout",
          "text": [
            "Enter a string: amulya\n",
            "Count of vowels: 3\n"
          ]
        }
      ]
    }
  ],
  "metadata": {
    "colab": {
      "provenance": [],
      "include_colab_link": true
    },
    "kernelspec": {
      "display_name": "Python 3 (ipykernel)",
      "language": "python",
      "name": "python3"
    },
    "language_info": {
      "codemirror_mode": {
        "name": "ipython",
        "version": 3
      },
      "file_extension": ".py",
      "mimetype": "text/x-python",
      "name": "python",
      "nbconvert_exporter": "python",
      "pygments_lexer": "ipython3",
      "version": "3.9.12"
    }
  },
  "nbformat": 4,
  "nbformat_minor": 0
}
