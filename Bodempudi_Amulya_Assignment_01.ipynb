{
  "cells": [
    {
      "cell_type": "markdown",
      "metadata": {
        "id": "view-in-github",
        "colab_type": "text"
      },
      "source": [
        "<a href=\"https://colab.research.google.com/github/amulyabodempudi/amulya_INFO5731_Fall2023/blob/main/Bodempudi_Amulya_Assignment_01.ipynb\" target=\"_parent\"><img src=\"https://colab.research.google.com/assets/colab-badge.svg\" alt=\"Open In Colab\"/></a>"
      ]
    },
    {
      "cell_type": "markdown",
      "metadata": {
        "id": "Ryk8D1Q4Wsrp"
      },
      "source": [
        "# **INFO5731 Assignment One**"
      ]
    },
    {
      "cell_type": "markdown",
      "metadata": {
        "id": "90_NR8c5XGWc"
      },
      "source": [
        "# Question 1\n",
        "\n",
        "(20 points). Write a Python program to generate 12 random numbers between 1 and 100. Sort the list of numbers in ascending order and print it out. Sort the list of numbers in descending order and print it out. Calculate the average for the group and print it out."
      ]
    },
    {
      "cell_type": "code",
      "execution_count": 1,
      "metadata": {
        "id": "5QX6bJjGWXY9",
        "colab": {
          "base_uri": "https://localhost:8080/"
        },
        "outputId": "f1d754fd-133d-4d06-dc2f-07f3695f8da5"
      },
      "outputs": [
        {
          "output_type": "stream",
          "name": "stdout",
          "text": [
            "Random Numbers: [49, 45, 61, 1, 54, 4, 32, 88, 86, 34, 34, 31]\n",
            "Ascending Sorted: [1, 4, 31, 32, 34, 34, 45, 49, 54, 61, 86, 88]\n",
            "Descending Sorted: [88, 86, 61, 54, 49, 45, 34, 34, 32, 31, 4, 1]\n",
            "Average: 43.25\n"
          ]
        }
      ],
      "source": [
        "# Your code here\n",
        "import random #importing random function\n",
        "\n",
        "# Generate 12 random numbers between 1 and 100\n",
        "random_numbers = [random.randint(1, 100) for _ in range(12)]\n",
        "\n",
        "# Sort the list in ascending order\n",
        "ascending_sorted = sorted(random_numbers)\n",
        "\n",
        "# Sort the list in descending order\n",
        "descending_sorted = sorted(random_numbers, reverse=True)\n",
        "\n",
        "# Calculate the average\n",
        "average = sum(random_numbers) / len(random_numbers)\n",
        "\n",
        "# Print the results\n",
        "print(\"Random Numbers:\", random_numbers)\n",
        "print(\"Ascending Sorted:\", ascending_sorted)\n",
        "print(\"Descending Sorted:\", descending_sorted)\n",
        "print(\"Average:\", average)\n",
        "\n"
      ]
    },
    {
      "cell_type": "markdown",
      "metadata": {
        "id": "1F_PZdH9Sh49"
      },
      "source": [
        "# Question 2\n",
        "(25 points).\n",
        "\n",
        "Write a program that will do the following string formatting tasks:\n",
        "\n",
        "(1) Ask the user to enter two sentences.\n",
        "\n",
        "(2) Make each sentence into a list. Each element in the list should correspond to a word in the sentence. For example, if the sentence is \"Alas! Am I alive? This is my first python program\", the program should print out ['Alas, '!', 'Am', 'I', 'alive, '?', 'This', 'is', 'my', 'first', 'python', 'program'].\n",
        "\n",
        "(3) Compare the two sentences. Print out a list of words that occur in both sentences.\n",
        "\n",
        "(4) Remove any punctuation from the sentence and print it back out. It should remove at least the following characters, but it can remove more: period(“.”), comma (“,”), semicolon (“;”), and colon (“:”)\n",
        "\n",
        "(5) Count the number of vowels in the sentences. Print out each vowel and the number of times it appears in the sentences, such as: a:2, e:1, i:0, etc"
      ]
    },
    {
      "cell_type": "code",
      "execution_count": 2,
      "metadata": {
        "id": "Y0oOSlsOS0cq",
        "colab": {
          "base_uri": "https://localhost:8080/"
        },
        "outputId": "aa4adeb1-d46f-4ae9-a802-2c3195be7018"
      },
      "outputs": [
        {
          "output_type": "stream",
          "name": "stdout",
          "text": [
            "Enter the first sentence: Alas! am I alive?\n",
            "Enter the second sentence: I am Amulya Bodempudi\n",
            "\n",
            "(2) List of words in sentence 1: ['Alas', 'am', 'I', 'alive']\n",
            "List of words in sentence 2: ['I', 'am', 'Amulya', 'Bodempudi']\n",
            "\n",
            "(3) Common words in both sentences: ['I', 'am']\n",
            "\n",
            "(4) Sentence 1 without punctuation: Alas am I alive\n",
            "Sentence 2 without punctuation: I am Amulya Bodempudi\n",
            "\n",
            "(5) Vowel counts in sentence 1: {'a': 3, 'e': 1, 'i': 1, 'o': 0, 'u': 0, 'A': 1, 'E': 0, 'I': 1, 'O': 0, 'U': 0}\n",
            "Vowel counts in sentence 2: {'a': 2, 'e': 1, 'i': 1, 'o': 1, 'u': 2, 'A': 1, 'E': 0, 'I': 1, 'O': 0, 'U': 0}\n"
          ]
        }
      ],
      "source": [
        "# Your code here\n",
        "import string\n",
        "\n",
        "# Step 1: Ask the user to enter two sentences\n",
        "sentence1 = input(\"Enter the first sentence: \")\n",
        "sentence2 = input(\"Enter the second sentence: \")\n",
        "\n",
        "# Step 2: Split each sentence into a list of words\n",
        "def split_sentence(sentence):\n",
        "    # Replace punctuation with spaces and split into words\n",
        "    translator = str.maketrans('', '', string.punctuation)\n",
        "    words = sentence.translate(translator).split()\n",
        "    # Add punctuation as separate elements in the list\n",
        "    for i, word in enumerate(words):\n",
        "        for char in word:\n",
        "            if char in string.punctuation:\n",
        "                words.insert(i + 1, char)\n",
        "                break\n",
        "    return words\n",
        "\n",
        "sentence1_words = split_sentence(sentence1)\n",
        "sentence2_words = split_sentence(sentence2)\n",
        "\n",
        "# Step 3: Find words that occur in both sentences\n",
        "common_words = list(set(sentence1_words) & set(sentence2_words))\n",
        "\n",
        "# Step 4: Remove punctuation from the sentences\n",
        "cleaned_sentence1 = ' '.join(sentence1_words)\n",
        "cleaned_sentence2 = ' '.join(sentence2_words)\n",
        "\n",
        "# Step 5: Count the number of vowels in the sentences\n",
        "def count_vowels(sentence):\n",
        "    vowels = 'aeiouAEIOU'\n",
        "    vowel_counts = {vowel: 0 for vowel in vowels}\n",
        "    for char in sentence:\n",
        "        if char in vowels:\n",
        "            vowel_counts[char] += 1\n",
        "    return vowel_counts\n",
        "\n",
        "vowel_counts1 = count_vowels(cleaned_sentence1)\n",
        "vowel_counts2 = count_vowels(cleaned_sentence2)\n",
        "\n",
        "# Print the results\n",
        "print(\"\\n(2) List of words in sentence 1:\", sentence1_words)\n",
        "print(\"List of words in sentence 2:\", sentence2_words)\n",
        "print(\"\\n(3) Common words in both sentences:\", common_words)\n",
        "print(\"\\n(4) Sentence 1 without punctuation:\", cleaned_sentence1)\n",
        "print(\"Sentence 2 without punctuation:\", cleaned_sentence2)\n",
        "print(\"\\n(5) Vowel counts in sentence 1:\", vowel_counts1)\n",
        "print(\"Vowel counts in sentence 2:\", vowel_counts2)\n",
        "\n"
      ]
    },
    {
      "cell_type": "markdown",
      "metadata": {
        "id": "CmFoI4jDS9nx"
      },
      "source": [
        "# Question 3\n",
        "\n",
        "(15 points). The formula that describes the volume V of a sphere with radius r is the following:\n",
        "\n",
        "$ V=\\frac{4}{3}\\ast\\ \\pi\\ast\\ r^3 $\n",
        "\n",
        "Write a program to calculate the value of V when r is in the range of 1–10. Output the result in the following format:\n",
        "\n",
        "\tr\tV\n",
        "\t1\t…\n",
        "\t2\t…\n",
        "\t3\t…\n"
      ]
    },
    {
      "cell_type": "code",
      "execution_count": 3,
      "metadata": {
        "id": "pEyqeioAT95b",
        "colab": {
          "base_uri": "https://localhost:8080/"
        },
        "outputId": "431d71fd-6f10-4b05-c3a1-b234fc7b09e7"
      },
      "outputs": [
        {
          "output_type": "stream",
          "name": "stdout",
          "text": [
            "r    V\n",
            "1    4.19\n",
            "2    33.51\n",
            "3    113.10\n",
            "4    268.08\n",
            "5    523.60\n",
            "6    904.78\n",
            "7    1436.76\n",
            "8    2144.66\n",
            "9    3053.63\n",
            "10    4188.79\n"
          ]
        }
      ],
      "source": [
        "# Your code here\n",
        "import math\n",
        "\n",
        "# Print the table header\n",
        "print(\"r    V\")\n",
        "\n",
        "# Loop through the range of radii (1 to 10)\n",
        "for r in range(1, 11):\n",
        "    # Calculate the volume using the formula\n",
        "    V = (4/3) * math.pi * (r ** 3)\n",
        "\n",
        "    # Print the radius and corresponding volume\n",
        "    print(f\"{r}    {V:.2f}\")\n",
        "\n"
      ]
    },
    {
      "cell_type": "markdown",
      "metadata": {
        "id": "z3tBE7E-Xn5X"
      },
      "source": [
        "# Question 4\n",
        "\n",
        "(40 points). In the field of Data Science, data is often formatted as a comma-delimited (CSV) file, where each line in a file corresponds to a field's value. Refer to Chapter 9 (p. 106) for more information on comma-delimited files. To answer this question, you will need to download the file [Assignment1_denton_housing.csv](https://raw.githubusercontent.com/unt-iialab/info5731-spring2022/main/assignments/Assignment1_denton_housing.csv) included with this assignment. The file [Assignment1_denton_housing.csv](https://raw.githubusercontent.com/unt-iialab/info5731-spring2022/main/assignments/Assignment1_denton_housing.csv) contains statistics about housing in the city of Denton from 2008 to 2014. Write a program to implement the following questions.\n",
        "\n",
        "(1) (10 pts) Calculate the difference in the number of Occupied Housing Units from year to year and print it. The difference must be calculated for the consecutive years such as 2008-2009, 2009-2010 etc. Finally, print the values in the ascending order.\n",
        "\n",
        "(2) (10 pts) For all the years, calculate the percentage of housing units which are vacant an occupied. Print the results in the following format:\n",
        "\n",
        "Year Vacant Housing Units Occupied Housing Units\n",
        "\n",
        "    2008  30%   70%                          \n",
        "\t2009 ----- -----\n",
        "\t2010 ----- -----\n",
        "    2011 ----- -----\n",
        "\t2012 ----- -----\n",
        "    2013 ----- -----\n",
        "\t2014 ----- -----\n",
        "  \n",
        "  \n",
        "\n",
        "(3) (10 pts) Calculate and print the valued and years in which the highest number of housing units were vacant and occupied. Print the results in the following format:  \n",
        "\n",
        "                              Year\tValue\n",
        "\tVacant Housing Units\t  -----   -----\n",
        "\tOccupied Housing Units\t-----   -----\n",
        "\n",
        "(4) (10 pts) Calculate the harmonic mean of the total housing units and print it out. You can find the information about harmonic mean here: https://ncalculators.com/statistics/harmonic-mean-calculator.htm"
      ]
    },
    {
      "cell_type": "code",
      "source": [
        "import pandas as pd\n",
        "\n",
        "# Read the CSV file into a pandas DataFrame\n",
        "df = pd.read_csv('Assignment1_denton_housing.csv')\n",
        "\n",
        "# (1) Calculate the difference in the number of Occupied Housing Units from year to year and print it.\n",
        "df['Year'] = df['year'].astype(str)\n",
        "df['Occupied_Housing_Units_Diff'] = df[df['title_field'] == 'Occupied Housing Units']['value'].diff().fillna(0)\n",
        "occupied_diff = df[df['title_field'] == 'Occupied Housing Units'][['Year', 'Occupied_Housing_Units_Diff']]\n",
        "occupied_diff = occupied_diff.sort_values(by='Year')\n",
        "\n",
        "# (2) Calculate the percentage of housing units which are vacant and occupied for all the years.\n",
        "total_housing_units = df[df['title_field'] == 'Total Housing Units'][['Year', 'value']].set_index('Year')\n",
        "vacant_housing_units = df[df['title_field'] == 'Vacant Housing Units'][['Year', 'value']].set_index('Year')\n",
        "occupied_housing_units = df[df['title_field'] == 'Occupied Housing Units'][['Year', 'value']].set_index('Year')\n",
        "percentages = (vacant_housing_units / total_housing_units * 100).rename(columns={'value': 'Vacant Housing Units'})\n",
        "percentages['Occupied Housing Units'] = (occupied_housing_units / total_housing_units * 100)\n",
        "\n",
        "# (3) Find the year and value with the highest number of vacant and occupied housing units.\n",
        "max_vacant_year = vacant_housing_units.idxmax().values[0]\n",
        "max_vacant_value = vacant_housing_units.max().values[0]\n",
        "max_occupied_year = occupied_housing_units.idxmax().values[0]\n",
        "max_occupied_value = occupied_housing_units.max().values[0]\n",
        "\n",
        "# (4) Calculate the harmonic mean of the total housing units.\n",
        "harmonic_mean = 1 / (1 / df[df['title_field'] == 'Total Housing Units']['value']).mean()\n",
        "\n",
        "# Print the results\n",
        "print(\"(1) Difference in Occupied Housing Units from year to year (ascending order):\\n\")\n",
        "print(occupied_diff)\n",
        "print(\"\\n(2) Percentage of Housing Units (Vacant and Occupied) for all years:\\n\")\n",
        "print(percentages)\n",
        "print(\"\\n(3) Year and Value with the highest number of Vacant and Occupied Housing Units:\\n\")\n",
        "print(f\"Vacant Housing Units - Year: {max_vacant_year}, Value: {max_vacant_value}\")\n",
        "print(f\"Occupied Housing Units - Year: {max_occupied_year}, Value: {max_occupied_value}\")\n",
        "print(\"\\n(4) Harmonic Mean of Total Housing Units:\\n\")\n",
        "print(f\"{harmonic_mean:.2f}\")\n"
      ],
      "metadata": {
        "colab": {
          "base_uri": "https://localhost:8080/"
        },
        "id": "NCit5VG44DwP",
        "outputId": "c4659f6d-ebbe-422c-f31b-342b4a9b0a21"
      },
      "execution_count": 15,
      "outputs": [
        {
          "output_type": "stream",
          "name": "stdout",
          "text": [
            "(1) Difference in Occupied Housing Units from year to year (ascending order):\n",
            "\n",
            "    Year  Occupied_Housing_Units_Diff\n",
            "20  2008                        795.0\n",
            "17  2009                      -5091.0\n",
            "14  2010                        303.0\n",
            "11  2011                      -1404.0\n",
            "8   2012                      -1565.0\n",
            "5   2013                      -2622.0\n",
            "2   2014                          0.0\n",
            "\n",
            "(2) Percentage of Housing Units (Vacant and Occupied) for all years:\n",
            "\n",
            "      Vacant Housing Units  Occupied Housing Units\n",
            "Year                                              \n",
            "2014              5.730111               94.269889\n",
            "2013              8.801788               91.198212\n",
            "2012              6.677600               93.322400\n",
            "2011              9.379522               90.620478\n",
            "2010              8.142556               91.857444\n",
            "2009              9.071116               90.928884\n",
            "2008             10.882653               89.117347\n",
            "\n",
            "(3) Year and Value with the highest number of Vacant and Occupied Housing Units:\n",
            "\n",
            "Vacant Housing Units - Year: 2008, Value: 4483\n",
            "Occupied Housing Units - Year: 2014, Value: 46295\n",
            "\n",
            "(4) Harmonic Mean of Total Housing Units:\n",
            "\n",
            "44398.29\n"
          ]
        }
      ]
    },
    {
      "cell_type": "code",
      "source": [],
      "metadata": {
        "id": "uS4Nfhc3XGua"
      },
      "execution_count": null,
      "outputs": []
    }
  ],
  "metadata": {
    "colab": {
      "provenance": [],
      "include_colab_link": true
    },
    "kernelspec": {
      "display_name": "Python 3 (ipykernel)",
      "language": "python",
      "name": "python3"
    },
    "language_info": {
      "codemirror_mode": {
        "name": "ipython",
        "version": 3
      },
      "file_extension": ".py",
      "mimetype": "text/x-python",
      "name": "python",
      "nbconvert_exporter": "python",
      "pygments_lexer": "ipython3",
      "version": "3.9.12"
    }
  },
  "nbformat": 4,
  "nbformat_minor": 0
}